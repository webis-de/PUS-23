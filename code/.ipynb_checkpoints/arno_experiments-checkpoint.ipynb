{
 "cells": [
  {
   "cell_type": "code",
   "execution_count": 2,
   "metadata": {
    "colab": {
     "base_uri": "https://localhost:8080/",
     "height": 54
    },
    "executionInfo": {
     "elapsed": 25157,
     "status": "ok",
     "timestamp": 1603374140140,
     "user": {
      "displayName": "Arno Simons",
      "photoUrl": "",
      "userId": "02448447039943627700"
     },
     "user_tz": -120
    },
    "id": "PJwyfS7eiPWw",
    "outputId": "4ee01e25-07db-45c8-9e07-223ff96c598e"
   },
   "outputs": [
    {
     "name": "stdout",
     "output_type": "stream",
     "text": [
      "Mounted at /content/drive\n"
     ]
    },
    {
     "data": {
      "application/vnd.google.colaboratory.intrinsic+json": {
       "type": "string"
      },
      "text/plain": [
       "'/content/drive/My Drive/WIKING'"
      ]
     },
     "execution_count": 2,
     "metadata": {
      "tags": []
     },
     "output_type": "execute_result"
    }
   ],
   "source": [
    "# set paths\n",
    "path_project = '/content/drive/My Drive/WIKING/WIKING_git'\n",
    "path_my_tools = '/content/drive/My Drive/my_tools'\n",
    "\n",
    "file_article_CRISPR = path_project + '/extractions/CRISPR_en'\n",
    "file_events = \n",
    "\n",
    "\n",
    "file_crispr_groundtruth = \"CRISPR_timeline.xlsx\"\n",
    "file_crispr_revisions = \"CRISPR_revisions.xlsx\"\n",
    "file_crispr_terms = \"CRISPR_terms.xlsx\"\n",
    "\n",
    "# mount Google Drive\n",
    "from google.colab import drive\n",
    "drive.mount('/content/drive')\n",
    "\n",
    "# add git folder to path variable\n",
    "import sys\n",
    "sys.path.append(path_project + '/code')\n",
    "\n",
    "# !cp path_git + \"entity/article.py\" # https://stackoverflow.com/questions/48905127/importing-py-files-in-google-colab/48919022\n",
    "from entity.article import Article\n",
    "\n",
    "# import modules\n",
    "import re\n",
    "import os\n",
    "import pandas as pd\n",
    "import numpy as np\n",
    "import matplotlib.pyplot as plt\n",
    "import pprint\n",
    "pp = pprint.PrettyPrinter(indent=4)\n",
    "\n",
    "# set working directory\n",
    "os.chdir(path_project)\n",
    "os.getcwd()"
   ]
  },
  {
   "cell_type": "code",
   "execution_count": 3,
   "metadata": {
    "colab": {
     "base_uri": "https://localhost:8080/",
     "height": 34
    },
    "executionInfo": {
     "elapsed": 506,
     "status": "ok",
     "timestamp": 1603374146860,
     "user": {
      "displayName": "Arno Simons",
      "photoUrl": "",
      "userId": "02448447039943627700"
     },
     "user_tz": -120
    },
    "id": "5pFtlIlNiYtw",
    "outputId": "5a1d53bf-be5b-48cc-8603-fe09efe7a7d8"
   },
   "outputs": [
    {
     "data": {
      "text/plain": [
       "entity.article.Article"
      ]
     },
     "execution_count": 3,
     "metadata": {
      "tags": []
     },
     "output_type": "execute_result"
    }
   ],
   "source": [
    "Article"
   ]
  },
  {
   "cell_type": "code",
   "execution_count": null,
   "metadata": {
    "id": "Zejy6MN-i-LL"
   },
   "outputs": [],
   "source": []
  }
 ],
 "metadata": {
  "colab": {
   "authorship_tag": "ABX9TyPyZYyxr//yHdWJOTSJu2fD",
   "name": "arno_experiments.ipynb",
   "provenance": []
  },
  "kernelspec": {
   "display_name": "Python 3",
   "language": "python",
   "name": "python3"
  },
  "language_info": {
   "codemirror_mode": {
    "name": "ipython",
    "version": 3
   },
   "file_extension": ".py",
   "mimetype": "text/x-python",
   "name": "python",
   "nbconvert_exporter": "python",
   "pygments_lexer": "ipython3",
   "version": "3.6.9"
  }
 },
 "nbformat": 4,
 "nbformat_minor": 1
}
